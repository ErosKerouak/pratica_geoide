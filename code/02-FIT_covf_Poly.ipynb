{
 "cells": [
  {
   "cell_type": "code",
   "execution_count": null,
   "id": "0",
   "metadata": {},
   "outputs": [],
   "source": [
    "import numpy as np\n",
    "import pandas as pd\n",
    "import matplotlib.pyplot as plt\n",
    "from pathlib import Path\n"
   ]
  },
  {
   "cell_type": "code",
   "execution_count": null,
   "id": "1",
   "metadata": {},
   "outputs": [],
   "source": [
    "# =========================\n",
    "# Parâmetros do ajuste\n",
    "# =========================\n",
    "n = 9  # grau do polinômio (mesmo do .m)\n",
    "entrada = Path(\"../data/processed/remove_pontos.csv\")  # nosso CSV (lat, lon, dg_res_calc_mgal)\n",
    "saida_coef = Path(\"../data/processed/Xa_coeficientes_polinomiais.txt\")"
   ]
  },
  {
   "cell_type": "code",
   "execution_count": null,
   "id": "2",
   "metadata": {},
   "outputs": [],
   "source": [
    "# =========================\n",
    "# Leitura dos dados\n",
    "# =========================\n",
    "dfp = pd.read_csv(entrada)\n",
    "\n",
    "dfp"
   ]
  },
  {
   "cell_type": "code",
   "execution_count": null,
   "id": "3",
   "metadata": {},
   "outputs": [],
   "source": [
    "# Ajuste os nomes conforme seu CSV\n",
    "lat = dfp[\"lat\"].to_numpy()\n",
    "lon = dfp[\"lon\"].to_numpy()\n",
    "AG_res = dfp[\"dg_res_calc_mgal\"].to_numpy()"
   ]
  },
  {
   "cell_type": "code",
   "execution_count": null,
   "id": "4",
   "metadata": {},
   "outputs": [],
   "source": [
    "# =========================\n",
    "# Covariância empírica (versão fiel ao MATLAB)\n",
    "# - Distâncias em graus (lat/lon já em °)\n",
    "# - smax = 4° como no script\n",
    "# - ds ~ \"densidade espacial média\" (mesma fórmula)\n",
    "# =========================\n",
    "def spatial_covariance(lon, lat, values, smax_deg=4.0):\n",
    "    \"\"\"\n",
    "    Replica a lógica do MATLAB:\n",
    "      - Calcula ds a partir de uma fórmula de densidade\n",
    "      - Faz pares (i,j), acumula produtos para bins de distância\n",
    "      - Retorna a covariância média por bin e o vetor de distâncias\n",
    "    Custo O(N^2): se N for muito grande, considere amostrar os pontos.\n",
    "    \"\"\"\n",
    "    N = len(values)\n",
    "    # d_s conforme o .m\n",
    "    ds = np.sqrt((2 * np.pi * (smax_deg / 2) ** 2) / N)\n",
    "\n",
    "    nbins = int(round(smax_deg / ds)) + 2\n",
    "    covariance = np.zeros(nbins, dtype=float)\n",
    "    counts = np.zeros(nbins, dtype=int)\n",
    "\n",
    "    # Duplo loop (como no MATLAB). Para muitos pontos, isso pode ser pesado.\n",
    "    for i in range(N):\n",
    "        xi, yi, gi = lon[i], lat[i], values[i]\n",
    "        # vetoriza o j loop (mais rápido que 2 for)\n",
    "        dx = xi - lon\n",
    "        dy = yi - lat\n",
    "        r = np.sqrt(dx * dx + dy * dy)  # graus\n",
    "        # ignora j==i\n",
    "        r[i] = np.inf\n",
    "        # máscara dentro do raio\n",
    "        mask = r < smax_deg\n",
    "        # índice do bin\n",
    "        ir = np.round(r[mask] / ds).astype(int) + 1\n",
    "        # acumula\n",
    "        covariance.put(ir, covariance[ir] + gi * values[mask])\n",
    "        counts.put(ir, counts[ir] + 1)\n",
    "\n",
    "    # média por bin\n",
    "    valid = counts != 0\n",
    "    covariance[valid] = covariance[valid] / counts[valid]\n",
    "    covdist = np.arange(nbins) * ds  # em graus\n",
    "    return covariance[valid], covdist[valid]\n",
    "\n",
    "covariance, covdist = spatial_covariance(lon, lat, AG_res, smax_deg=4.0)\n",
    "s = covdist  # em graus (igual ao MATLAB)"
   ]
  },
  {
   "cell_type": "code",
   "execution_count": null,
   "id": "5",
   "metadata": {},
   "outputs": [],
   "source": [
    "# =========================\n",
    "# Ajuste polinomial por MMQ (sem inversa explícita)\n",
    "# covariance = a0 + a1*s + ... + a_n*s^n\n",
    "# =========================\n",
    "# Monta Vandermonde com potências crescentes (1, s, s^2, ..., s^n)\n",
    "A = np.vstack([s**k for k in range(n+1)]).T   # shape: (m amostras, n+1)\n",
    "Lb = covariance\n",
    "\n",
    "# Solução MMQ estável\n",
    "Xa, *_ = np.linalg.lstsq(A, Lb, rcond=None)   # coeficientes a0..an\n",
    "\n",
    "# Avaliação do polinômio ajustado\n",
    "covariance_fit = A @ Xa\n",
    "\n",
    "# R^2\n",
    "ss_res = np.sum((Lb - covariance_fit) ** 2)\n",
    "ss_tot = np.sum((Lb - Lb.mean()) ** 2)\n",
    "R2 = 1 - ss_res / ss_tot if ss_tot > 0 else np.nan\n",
    "print(f\"R^2 = {R2:.6f}\")\n",
    "\n",
    "# =========================\n",
    "# Plot comparando empírico vs ajustado\n",
    "# =========================\n",
    "plt.plot(s, covariance_fit, label=\"Fitted covariance (polynomial)\", linewidth=1.5)\n",
    "plt.plot(s, Lb, label=\"Empirical covariance\", linewidth=1.5)\n",
    "plt.grid(True, which=\"both\", alpha=0.3)\n",
    "plt.legend()\n",
    "plt.xlabel(\"Distance (°)\")\n",
    "plt.ylabel(\"Covariance (mGal^2)\")\n",
    "plt.title(f\"Covariance fit (degree n={n}) — R²={R2:.4f}\")\n",
    "plt.show()\n",
    "\n",
    "# =========================\n",
    "# Exporta coeficientes como no MATLAB\n",
    "# (um coef por linha; se preferir CSV, troque o formato)\n",
    "# =========================\n",
    "np.savetxt(saida_coef, Xa[np.newaxis, :], fmt=\"%.10g\")\n",
    "print(f\"Coeficientes salvos em: {saida_coef.resolve()}\")\n"
   ]
  }
 ],
 "metadata": {
  "kernelspec": {
   "display_name": "physical-geodesy",
   "language": "python",
   "name": "python3"
  },
  "language_info": {
   "codemirror_mode": {
    "name": "ipython",
    "version": 3
   },
   "file_extension": ".py",
   "mimetype": "text/x-python",
   "name": "python",
   "nbconvert_exporter": "python",
   "pygments_lexer": "ipython3",
   "version": "3.10.18"
  }
 },
 "nbformat": 4,
 "nbformat_minor": 5
}
