{
 "cells": [
  {
   "cell_type": "code",
   "execution_count": null,
   "id": "0",
   "metadata": {},
   "outputs": [],
   "source": [
    "import pandas as pd\n",
    "import numpy as np"
   ]
  },
  {
   "cell_type": "code",
   "execution_count": null,
   "id": "1",
   "metadata": {},
   "outputs": [],
   "source": [
    "REMOVER_path = \"../data/raw/REMOVER.xlsx\""
   ]
  },
  {
   "cell_type": "code",
   "execution_count": null,
   "id": "2",
   "metadata": {},
   "outputs": [],
   "source": [
    "df_REMOVER = pd.read_excel(REMOVER_path, sheet_name=0)\n",
    "\n",
    "df_REMOVER"
   ]
  },
  {
   "cell_type": "code",
   "execution_count": null,
   "id": "3",
   "metadata": {},
   "outputs": [],
   "source": [
    "# df_REMOVER já está carregado\n",
    "colmap = {\n",
    "    'LATITUDE (°) - tide free': 'lat',\n",
    "    'LONGITUDE (°) - tide free': 'lon',\n",
    "    'H (m) - zero tide': 'H_zerotide_m',\n",
    "    'Anomalia de gravidade de Helmert (mGal) - zero tide': 'dg_helmert_mgal',\n",
    "    'Anomalia de gravidade GOCO06s até 300 (mGal)': 'dg_goco_mgal',\n",
    "    'Efeito indireto em Anomalia de gravidade de Helmert (mGal)': 'dg_indirect_mgal',\n",
    "    'Anomalia de gravidade residual (mGal)': 'dg_residual_planilha_mgal',\n",
    "}\n",
    "df = df_REMOVER.rename(columns=colmap).copy()\n",
    "\n",
    "\n",
    "# ordenar colunas de interesse\n",
    "df = df[['lat','lon','H_zerotide_m','dg_helmert_mgal','dg_goco_mgal','dg_indirect_mgal','dg_residual_planilha_mgal']]\n",
    "len(df), df.head(3)"
   ]
  },
  {
   "cell_type": "markdown",
   "id": "4",
   "metadata": {},
   "source": [
    "### Recalcular a anomalia residual e checar contra a planilha\n",
    "\n",
    "Fórmula:\n",
    "\n",
    "$$\n",
    "\\Delta g_{\\text{res}}=\\Delta g_{\\text{Helmert}}-\\Delta g_{\\text{GOCO06s}}-\\delta_{\\text{indireto}}\n",
    "$$"
   ]
  },
  {
   "cell_type": "code",
   "execution_count": null,
   "id": "5",
   "metadata": {},
   "outputs": [],
   "source": [
    "df['dg_res_calc_mgal'] = (\n",
    "    df['dg_helmert_mgal']\n",
    "    - df['dg_goco_mgal']\n",
    "    - df['dg_indirect_mgal']\n",
    ")\n",
    "\n",
    "df['erro_mgal'] = df['dg_res_calc_mgal'] - df['dg_residual_planilha_mgal']\n",
    "\n",
    "print(df[['dg_res_calc_mgal','dg_residual_planilha_mgal','erro_mgal']].head())\n",
    "print(\n",
    "    f\"Erro abs. máx = {df['erro_mgal'].abs().max():.6f} mGal | \"\n",
    "    f\"RMSE = {np.sqrt((df['erro_mgal']**2).mean()):.6f} mGal\"\n",
    ")\n"
   ]
  },
  {
   "cell_type": "code",
   "execution_count": null,
   "id": "6",
   "metadata": {},
   "outputs": [],
   "source": [
    "# tirar linhas com NaN nas colunas essenciais\n",
    "keep = ['lat','lon','dg_res_calc_mgal']\n",
    "clean = df.dropna(subset=keep).copy()\n",
    "\n",
    "# salvar um CSV \"canônico\" para a próxima etapa\n",
    "clean.to_csv(\"../data/processed/remove_pontos.csv\", index=False)\n",
    "\n",
    "# opcional: também salvar um TXT sem cabeçalho (se quiser reproduzir formato de scripts antigos)\n",
    "clean[['lat','lon','dg_res_calc_mgal']].to_csv(\n",
    "    \"../data/processed/remove_pontos.txt\",\n",
    "    index=False, header=False, float_format=\"%.6f\"\n",
    ")\n",
    "\n",
    "len(clean), clean.head(3)\n"
   ]
  },
  {
   "cell_type": "code",
   "execution_count": null,
   "id": "7",
   "metadata": {},
   "outputs": [],
   "source": [
    "import matplotlib.pyplot as plt\n",
    "\n",
    "plt.hist(clean['dg_res_calc_mgal'], bins=20)\n",
    "plt.title(\"Anomalia de gravidade residual (mGal)\")\n",
    "plt.xlabel(\"mGal\"); plt.ylabel(\"Contagem\")\n",
    "plt.show()\n",
    "\n",
    "plt.scatter(clean['lon'], clean['lat'], c=clean['dg_res_calc_mgal'])\n",
    "plt.title(\"Pontos e Δg_res (mGal)\")\n",
    "plt.xlabel(\"lon\"); plt.ylabel(\"lat\")\n",
    "plt.colorbar(label=\"mGal\")\n",
    "plt.show()\n"
   ]
  }
 ],
 "metadata": {
  "kernelspec": {
   "display_name": "physical-geodesy",
   "language": "python",
   "name": "python3"
  },
  "language_info": {
   "codemirror_mode": {
    "name": "ipython",
    "version": 3
   },
   "file_extension": ".py",
   "mimetype": "text/x-python",
   "name": "python",
   "nbconvert_exporter": "python",
   "pygments_lexer": "ipython3",
   "version": "3.10.18"
  }
 },
 "nbformat": 4,
 "nbformat_minor": 5
}
